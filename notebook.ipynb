{
 "cells": [
  {
   "cell_type": "markdown",
   "metadata": {},
   "source": [
    "<h1><p><b style='color:red'>The World Happiness Report</b><br> is a landmark survey of the state of global happiness . The report continues to gain global recognition as governments, organizations and civil society increasingly use happiness indicators to inform their policy-making decisions. Leading experts across fields – economics, psychology, survey analysis, national statistics, health, public policy and more – describe how measurements of well-being can be used effectively to assess the progress of nations. The reports review the state of happiness in the world today and show how the new science of happiness explains personal and national variations in happiness.</p></h1>"
   ]
  },
  {
   "cell_type": "code",
   "execution_count": 1,
   "metadata": {},
   "outputs": [],
   "source": [
    "import numpy as np\n",
    "import pandas as pd\n",
    "import matplotlib.pyplot as plt\n",
    "import pylab as pl\n",
    "%matplotlib inline\n",
    "\n"
   ]
  },
  {
   "cell_type": "markdown",
   "metadata": {},
   "source": [
    "<h1 style='Color: AQua'> # Read datasets  </h1>"
   ]
  },
  {
   "cell_type": "code",
   "execution_count": 2,
   "metadata": {},
   "outputs": [],
   "source": [
    "\n",
    "data=pd.read_csv('world-happiness-report.csv')"
   ]
  },
  {
   "cell_type": "code",
   "execution_count": 3,
   "metadata": {},
   "outputs": [
    {
     "data": {
      "text/html": [
       "<div>\n",
       "<style scoped>\n",
       "    .dataframe tbody tr th:only-of-type {\n",
       "        vertical-align: middle;\n",
       "    }\n",
       "\n",
       "    .dataframe tbody tr th {\n",
       "        vertical-align: top;\n",
       "    }\n",
       "\n",
       "    .dataframe thead th {\n",
       "        text-align: right;\n",
       "    }\n",
       "</style>\n",
       "<table border=\"1\" class=\"dataframe\">\n",
       "  <thead>\n",
       "    <tr style=\"text-align: right;\">\n",
       "      <th></th>\n",
       "      <th>Country name</th>\n",
       "      <th>year</th>\n",
       "      <th>Life Ladder</th>\n",
       "      <th>Log GDP per capita</th>\n",
       "      <th>Social support</th>\n",
       "      <th>Healthy life expectancy at birth</th>\n",
       "      <th>Freedom to make life choices</th>\n",
       "      <th>Generosity</th>\n",
       "      <th>Perceptions of corruption</th>\n",
       "      <th>Positive affect</th>\n",
       "      <th>Negative affect</th>\n",
       "    </tr>\n",
       "  </thead>\n",
       "  <tbody>\n",
       "    <tr>\n",
       "      <th>0</th>\n",
       "      <td>Afghanistan</td>\n",
       "      <td>2008</td>\n",
       "      <td>3.724</td>\n",
       "      <td>7.37</td>\n",
       "      <td>0.451</td>\n",
       "      <td>50.8</td>\n",
       "      <td>0.718</td>\n",
       "      <td>0.168</td>\n",
       "      <td>0.882</td>\n",
       "      <td>0.518</td>\n",
       "      <td>0.258</td>\n",
       "    </tr>\n",
       "    <tr>\n",
       "      <th>1</th>\n",
       "      <td>Afghanistan</td>\n",
       "      <td>2009</td>\n",
       "      <td>4.402</td>\n",
       "      <td>7.54</td>\n",
       "      <td>0.552</td>\n",
       "      <td>51.2</td>\n",
       "      <td>0.679</td>\n",
       "      <td>0.190</td>\n",
       "      <td>0.850</td>\n",
       "      <td>0.584</td>\n",
       "      <td>0.237</td>\n",
       "    </tr>\n",
       "  </tbody>\n",
       "</table>\n",
       "</div>"
      ],
      "text/plain": [
       "  Country name  year  Life Ladder  Log GDP per capita  Social support  \\\n",
       "0  Afghanistan  2008        3.724                7.37           0.451   \n",
       "1  Afghanistan  2009        4.402                7.54           0.552   \n",
       "\n",
       "   Healthy life expectancy at birth  Freedom to make life choices  Generosity  \\\n",
       "0                              50.8                         0.718       0.168   \n",
       "1                              51.2                         0.679       0.190   \n",
       "\n",
       "   Perceptions of corruption  Positive affect  Negative affect  \n",
       "0                      0.882            0.518            0.258  \n",
       "1                      0.850            0.584            0.237  "
      ]
     },
     "execution_count": 3,
     "metadata": {},
     "output_type": "execute_result"
    }
   ],
   "source": [
    "data.head(2)"
   ]
  },
  {
   "cell_type": "markdown",
   "metadata": {},
   "source": [
    "<h1 style='color:aqua'>dataset Descreption :</h1>\n",
    "<p><b>1-Life Ladder: </b><br>\n",
    " World Happiness Report defines the Happiness Index (or “Life ladder”) as follows: Please imagine a ladder, \n",
    "with steps numbered from 0 at the bottom to 10 at the top.\n",
    " The top of the ladder represents the best possible life for you and the bottom of the ladder represents the worst possible life for you</p>\n",
    " <p><b>\n",
    " 2-Log GDP per capita:</b><br>\n",
    " GDP per capita stands for Gross Domestic Product (GDP) per capita (per person). It is derived from a straightforward division of total GDP (see definition of GDP) by the population. \n",
    " </p>\n",
    " <p><b>\n",
    " 3-Social support:</b><br>\n",
    "Social support has been described as “support accessible to an individual through social ties to other individuals, groups, and the larger community\n",
    " </p>\n",
    " <p><b>\n",
    " 4-Freedom to make life choices:</b><br>\n",
    "Freedom of choice describes an individual's opportunity and autonomy to perform an action selected from at least two available options, unconstrained by external parties\n",
    " </p>\n",
    " <p><b>\n",
    " 5-Perceptions of corruption:</b><br>\n",
    " The Corruption Perceptions Index (CPI) is an index which ranks countries \"by their perceived levels of public sector corruption, as determined by expert assessments and opinion surveys.\" The CPI generally defines corruption as an \"abuse of entrusted power for private gain\".\n",
    " </p>\n",
    " <p><b>\n",
    " 6-Positive affect:</b><br>\n",
    "Protecting your health: Happiness lowers your risk for cardiovascular disease, lowers your blood pressure, enables better sleep, improves your diet, allows you to maintain a normal body weight through regular exercise and reduces stress\n",
    " </p>"
   ]
  },
  {
   "cell_type": "markdown",
   "metadata": {},
   "source": [
    " <B><h1 style='Color: RED'>  Data Exploration  </h1></B>"
   ]
  },
  {
   "cell_type": "code",
   "execution_count": 4,
   "metadata": {},
   "outputs": [
    {
     "data": {
      "text/plain": [
       "(1949, 11)"
      ]
     },
     "execution_count": 4,
     "metadata": {},
     "output_type": "execute_result"
    }
   ],
   "source": [
    "data.shape"
   ]
  },
  {
   "cell_type": "code",
   "execution_count": 5,
   "metadata": {},
   "outputs": [
    {
     "data": {
      "text/plain": [
       "Index(['Country name', 'year', 'Life Ladder', 'Log GDP per capita',\n",
       "       'Social support', 'Healthy life expectancy at birth',\n",
       "       'Freedom to make life choices', 'Generosity',\n",
       "       'Perceptions of corruption', 'Positive affect', 'Negative affect'],\n",
       "      dtype='object')"
      ]
     },
     "execution_count": 5,
     "metadata": {},
     "output_type": "execute_result"
    }
   ],
   "source": [
    "data.columns"
   ]
  },
  {
   "cell_type": "code",
   "execution_count": 6,
   "metadata": {},
   "outputs": [
    {
     "name": "stdout",
     "output_type": "stream",
     "text": [
      "<class 'pandas.core.frame.DataFrame'>\n",
      "RangeIndex: 1949 entries, 0 to 1948\n",
      "Data columns (total 11 columns):\n",
      " #   Column                            Non-Null Count  Dtype  \n",
      "---  ------                            --------------  -----  \n",
      " 0   Country name                      1949 non-null   object \n",
      " 1   year                              1949 non-null   int64  \n",
      " 2   Life Ladder                       1949 non-null   float64\n",
      " 3   Log GDP per capita                1913 non-null   float64\n",
      " 4   Social support                    1936 non-null   float64\n",
      " 5   Healthy life expectancy at birth  1894 non-null   float64\n",
      " 6   Freedom to make life choices      1917 non-null   float64\n",
      " 7   Generosity                        1860 non-null   float64\n",
      " 8   Perceptions of corruption         1839 non-null   float64\n",
      " 9   Positive affect                   1927 non-null   float64\n",
      " 10  Negative affect                   1933 non-null   float64\n",
      "dtypes: float64(9), int64(1), object(1)\n",
      "memory usage: 167.6+ KB\n"
     ]
    }
   ],
   "source": [
    "data.info()"
   ]
  },
  {
   "cell_type": "markdown",
   "metadata": {},
   "source": [
    "\n",
    " <B><h1 style='Color: RED'> Cleaning Data </h1></B>"
   ]
  },
  {
   "cell_type": "code",
   "execution_count": 7,
   "metadata": {},
   "outputs": [
    {
     "data": {
      "text/html": [
       "<div>\n",
       "<style scoped>\n",
       "    .dataframe tbody tr th:only-of-type {\n",
       "        vertical-align: middle;\n",
       "    }\n",
       "\n",
       "    .dataframe tbody tr th {\n",
       "        vertical-align: top;\n",
       "    }\n",
       "\n",
       "    .dataframe thead th {\n",
       "        text-align: right;\n",
       "    }\n",
       "</style>\n",
       "<table border=\"1\" class=\"dataframe\">\n",
       "  <thead>\n",
       "    <tr style=\"text-align: right;\">\n",
       "      <th></th>\n",
       "      <th>Country name</th>\n",
       "      <th>year</th>\n",
       "      <th>Life Ladder</th>\n",
       "      <th>Log GDP per capita</th>\n",
       "      <th>Social support</th>\n",
       "      <th>Healthy life expectancy at birth</th>\n",
       "      <th>Freedom to make life choices</th>\n",
       "      <th>Generosity</th>\n",
       "      <th>Perceptions of corruption</th>\n",
       "      <th>Positive affect</th>\n",
       "      <th>Negative affect</th>\n",
       "    </tr>\n",
       "  </thead>\n",
       "  <tbody>\n",
       "  </tbody>\n",
       "</table>\n",
       "</div>"
      ],
      "text/plain": [
       "Empty DataFrame\n",
       "Columns: [Country name, year, Life Ladder, Log GDP per capita, Social support, Healthy life expectancy at birth, Freedom to make life choices, Generosity, Perceptions of corruption, Positive affect, Negative affect]\n",
       "Index: []"
      ]
     },
     "execution_count": 7,
     "metadata": {},
     "output_type": "execute_result"
    }
   ],
   "source": [
    "data[data.duplicated()]\n",
    "# There is no Duplicated raws"
   ]
  },
  {
   "cell_type": "code",
   "execution_count": 8,
   "metadata": {},
   "outputs": [
    {
     "data": {
      "text/plain": [
       "Country name                          0\n",
       "year                                  0\n",
       "Life Ladder                           0\n",
       "Log GDP per capita                   36\n",
       "Social support                       13\n",
       "Healthy life expectancy at birth     55\n",
       "Freedom to make life choices         32\n",
       "Generosity                           89\n",
       "Perceptions of corruption           110\n",
       "Positive affect                      22\n",
       "Negative affect                      16\n",
       "dtype: int64"
      ]
     },
     "execution_count": 8,
     "metadata": {},
     "output_type": "execute_result"
    }
   ],
   "source": [
    "#.isnull()==>\n",
    "\n",
    "# to show where the null value is present \n",
    "#data.isna()\n",
    "\n",
    "\n",
    "# to count the null values in each column\n",
    "data.isna().sum()\n",
    "\n"
   ]
  },
  {
   "cell_type": "code",
   "execution_count": 9,
   "metadata": {},
   "outputs": [
    {
     "data": {
      "image/png": "[encoded data removed]",
      "text/plain": [
       "<Figure size 432x288 with 1 Axes>"
      ]
     },
     "metadata": {},
     "output_type": "display_data"
    },
    {
     "data": {
      "text/plain": [
       "<Figure size 10800x10800 with 0 Axes>"
      ]
     },
     "metadata": {},
     "output_type": "display_data"
    }
   ],
   "source": [
    "mylabels=[ 'Log GDP per capita',\n",
    "       'Healthy life expectancy at birth',\n",
    "       'Freedom to make life choices', 'Generosity',\n",
    "       'Perceptions of corruption', 'Positive affect']\n",
    "\n",
    "x =  [36, 55, 32, 89, 110, 22]\n",
    "\n",
    "wedgeprops = {\"linewidth\": 4, 'width':1.7, \"edgecolor\":\"k\"}\n",
    "textprops = {\"fontsize\":18} #Font size of text in pie chart\n",
    "plt.pie(x,labels=mylabels, \n",
    "        autopct = \"%0.2f%%\", # Show data in percentage form with 2 decimal point\n",
    "        shadow = True, # Showing shadow of pie chart\n",
    "        radius = 2.5, # Radius to increase or decrease the size of pie chart  \n",
    "        wedgeprops = wedgeprops,\n",
    "        textprops =textprops,\n",
    "   \n",
    "       \n",
    "        \n",
    "        \n",
    "        )\n",
    "plt.legend(loc =\"lower left\",)\n",
    "\n",
    "plt.figure(figsize=(150,150))\n",
    "plt.show() "
   ]
  },
  {
   "cell_type": "markdown",
   "metadata": {},
   "source": [
    "<h1 style ='color :red'>Removing NuLL Values</h1>"
   ]
  },
  {
   "cell_type": "code",
   "execution_count": 10,
   "metadata": {},
   "outputs": [
    {
     "data": {
      "text/plain": [
       "Country name                        0\n",
       "year                                0\n",
       "Life Ladder                         0\n",
       "Log GDP per capita                  0\n",
       "Social support                      0\n",
       "Healthy life expectancy at birth    0\n",
       "Freedom to make life choices        0\n",
       "Generosity                          0\n",
       "Perceptions of corruption           0\n",
       "Positive affect                     0\n",
       "Negative affect                     0\n",
       "dtype: int64"
      ]
     },
     "execution_count": 10,
     "metadata": {},
     "output_type": "execute_result"
    }
   ],
   "source": [
    "data.fillna( method ='ffill',inplace=True)\n",
    "data.isnull().sum()"
   ]
  },
  {
   "cell_type": "markdown",
   "metadata": {},
   "source": [
    "<B><h1 style ='color :red'>Analyzing Data: </h1></B>"
   ]
  },
  {
   "cell_type": "markdown",
   "metadata": {},
   "source": [
    "<h1 style='color:#33ff77'>Q1) Which Country Have a higher Life Ladder And InWhich Year.?? </h1>"
   ]
  },
  {
   "cell_type": "code",
   "execution_count": 11,
   "metadata": {},
   "outputs": [
    {
     "data": {
      "text/html": [
       "<div>\n",
       "<style scoped>\n",
       "    .dataframe tbody tr th:only-of-type {\n",
       "        vertical-align: middle;\n",
       "    }\n",
       "\n",
       "    .dataframe tbody tr th {\n",
       "        vertical-align: top;\n",
       "    }\n",
       "\n",
       "    .dataframe thead th {\n",
       "        text-align: right;\n",
       "    }\n",
       "</style>\n",
       "<table border=\"1\" class=\"dataframe\">\n",
       "  <thead>\n",
       "    <tr style=\"text-align: right;\">\n",
       "      <th></th>\n",
       "      <th>Country name</th>\n",
       "      <th>year</th>\n",
       "      <th>Life Ladder</th>\n",
       "      <th>Log GDP per capita</th>\n",
       "      <th>Social support</th>\n",
       "      <th>Healthy life expectancy at birth</th>\n",
       "      <th>Freedom to make life choices</th>\n",
       "      <th>Generosity</th>\n",
       "      <th>Perceptions of corruption</th>\n",
       "      <th>Positive affect</th>\n",
       "      <th>Negative affect</th>\n",
       "    </tr>\n",
       "  </thead>\n",
       "  <tbody>\n",
       "    <tr>\n",
       "      <th>449</th>\n",
       "      <td>Denmark</td>\n",
       "      <td>2005</td>\n",
       "      <td>8.019</td>\n",
       "      <td>10.851</td>\n",
       "      <td>0.972</td>\n",
       "      <td>69.6</td>\n",
       "      <td>0.971</td>\n",
       "      <td>-0.127</td>\n",
       "      <td>0.237</td>\n",
       "      <td>0.86</td>\n",
       "      <td>0.154</td>\n",
       "    </tr>\n",
       "  </tbody>\n",
       "</table>\n",
       "</div>"
      ],
      "text/plain": [
       "    Country name  year  Life Ladder  Log GDP per capita  Social support  \\\n",
       "449      Denmark  2005        8.019              10.851           0.972   \n",
       "\n",
       "     Healthy life expectancy at birth  Freedom to make life choices  \\\n",
       "449                              69.6                         0.971   \n",
       "\n",
       "     Generosity  Perceptions of corruption  Positive affect  Negative affect  \n",
       "449      -0.127                      0.237             0.86            0.154  "
      ]
     },
     "execution_count": 11,
     "metadata": {},
     "output_type": "execute_result"
    }
   ],
   "source": [
    "data[data['Life Ladder'] == data['Life Ladder'].max()]"
   ]
  },
  {
   "cell_type": "markdown",
   "metadata": {},
   "source": [
    "<h1 style='color:#33ff77'>Q2) In 2020 what the Higher level of Life Ladder And Which Country.?? </h1>"
   ]
  },
  {
   "cell_type": "code",
   "execution_count": 12,
   "metadata": {},
   "outputs": [
    {
     "data": {
      "text/html": [
       "<div>\n",
       "<style scoped>\n",
       "    .dataframe tbody tr th:only-of-type {\n",
       "        vertical-align: middle;\n",
       "    }\n",
       "\n",
       "    .dataframe tbody tr th {\n",
       "        vertical-align: top;\n",
       "    }\n",
       "\n",
       "    .dataframe thead th {\n",
       "        text-align: right;\n",
       "    }\n",
       "</style>\n",
       "<table border=\"1\" class=\"dataframe\">\n",
       "  <thead>\n",
       "    <tr style=\"text-align: right;\">\n",
       "      <th></th>\n",
       "      <th>Country name</th>\n",
       "      <th>year</th>\n",
       "      <th>Life Ladder</th>\n",
       "    </tr>\n",
       "  </thead>\n",
       "  <tbody>\n",
       "    <tr>\n",
       "      <th>563</th>\n",
       "      <td>Finland</td>\n",
       "      <td>2020</td>\n",
       "      <td>7.889</td>\n",
       "    </tr>\n",
       "    <tr>\n",
       "      <th>731</th>\n",
       "      <td>Iceland</td>\n",
       "      <td>2020</td>\n",
       "      <td>7.575</td>\n",
       "    </tr>\n",
       "    <tr>\n",
       "      <th>463</th>\n",
       "      <td>Denmark</td>\n",
       "      <td>2020</td>\n",
       "      <td>7.515</td>\n",
       "    </tr>\n",
       "    <tr>\n",
       "      <th>1661</th>\n",
       "      <td>Switzerland</td>\n",
       "      <td>2020</td>\n",
       "      <td>7.508</td>\n",
       "    </tr>\n",
       "    <tr>\n",
       "      <th>1224</th>\n",
       "      <td>Netherlands</td>\n",
       "      <td>2020</td>\n",
       "      <td>7.504</td>\n",
       "    </tr>\n",
       "    <tr>\n",
       "      <th>...</th>\n",
       "      <td>...</td>\n",
       "      <td>...</td>\n",
       "      <td>...</td>\n",
       "    </tr>\n",
       "    <tr>\n",
       "      <th>277</th>\n",
       "      <td>Cambodia</td>\n",
       "      <td>2020</td>\n",
       "      <td>4.377</td>\n",
       "    </tr>\n",
       "    <tr>\n",
       "      <th>746</th>\n",
       "      <td>India</td>\n",
       "      <td>2020</td>\n",
       "      <td>4.225</td>\n",
       "    </tr>\n",
       "    <tr>\n",
       "      <th>874</th>\n",
       "      <td>Jordan</td>\n",
       "      <td>2020</td>\n",
       "      <td>4.094</td>\n",
       "    </tr>\n",
       "    <tr>\n",
       "      <th>1711</th>\n",
       "      <td>Tanzania</td>\n",
       "      <td>2020</td>\n",
       "      <td>3.786</td>\n",
       "    </tr>\n",
       "    <tr>\n",
       "      <th>1948</th>\n",
       "      <td>Zimbabwe</td>\n",
       "      <td>2020</td>\n",
       "      <td>3.160</td>\n",
       "    </tr>\n",
       "  </tbody>\n",
       "</table>\n",
       "<p>95 rows × 3 columns</p>\n",
       "</div>"
      ],
      "text/plain": [
       "     Country name  year  Life Ladder\n",
       "563       Finland  2020        7.889\n",
       "731       Iceland  2020        7.575\n",
       "463       Denmark  2020        7.515\n",
       "1661  Switzerland  2020        7.508\n",
       "1224  Netherlands  2020        7.504\n",
       "...           ...   ...          ...\n",
       "277      Cambodia  2020        4.377\n",
       "746         India  2020        4.225\n",
       "874        Jordan  2020        4.094\n",
       "1711     Tanzania  2020        3.786\n",
       "1948     Zimbabwe  2020        3.160\n",
       "\n",
       "[95 rows x 3 columns]"
      ]
     },
     "execution_count": 12,
     "metadata": {},
     "output_type": "execute_result"
    }
   ],
   "source": [
    "data[ data['year']==2020 ].sort_values('Life Ladder',ascending=False)[['Country name','year','Life Ladder']]"
   ]
  },
  {
   "cell_type": "markdown",
   "metadata": {},
   "source": [
    "<h1 style='color:#33ff77'>Q3) What is the Avareage of Life Ladder in 2020.?? </h1>"
   ]
  },
  {
   "cell_type": "code",
   "execution_count": 13,
   "metadata": {},
   "outputs": [
    {
     "data": {
      "text/plain": [
       "Life Ladder    5.8406\n",
       "dtype: float64"
      ]
     },
     "execution_count": 13,
     "metadata": {},
     "output_type": "execute_result"
    }
   ],
   "source": [
    "data[data['year']==2020][['Life Ladder']].mean()"
   ]
  },
  {
   "cell_type": "markdown",
   "metadata": {},
   "source": [
    "<h1 style='color:#33ff77'>Q4) Which Country have the highest Life Ladder in The Last Three Years.?? </h1>"
   ]
  },
  {
   "cell_type": "code",
   "execution_count": 14,
   "metadata": {},
   "outputs": [
    {
     "data": {
      "text/html": [
       "<div>\n",
       "<style scoped>\n",
       "    .dataframe tbody tr th:only-of-type {\n",
       "        vertical-align: middle;\n",
       "    }\n",
       "\n",
       "    .dataframe tbody tr th {\n",
       "        vertical-align: top;\n",
       "    }\n",
       "\n",
       "    .dataframe thead th {\n",
       "        text-align: right;\n",
       "    }\n",
       "</style>\n",
       "<table border=\"1\" class=\"dataframe\">\n",
       "  <thead>\n",
       "    <tr style=\"text-align: right;\">\n",
       "      <th></th>\n",
       "      <th>Country name</th>\n",
       "      <th>year</th>\n",
       "      <th>Life Ladder</th>\n",
       "    </tr>\n",
       "  </thead>\n",
       "  <tbody>\n",
       "    <tr>\n",
       "      <th>563</th>\n",
       "      <td>Finland</td>\n",
       "      <td>2020</td>\n",
       "      <td>7.889</td>\n",
       "    </tr>\n",
       "    <tr>\n",
       "      <th>561</th>\n",
       "      <td>Finland</td>\n",
       "      <td>2018</td>\n",
       "      <td>7.858</td>\n",
       "    </tr>\n",
       "    <tr>\n",
       "      <th>562</th>\n",
       "      <td>Finland</td>\n",
       "      <td>2019</td>\n",
       "      <td>7.780</td>\n",
       "    </tr>\n",
       "  </tbody>\n",
       "</table>\n",
       "</div>"
      ],
      "text/plain": [
       "    Country name  year  Life Ladder\n",
       "563      Finland  2020        7.889\n",
       "561      Finland  2018        7.858\n",
       "562      Finland  2019        7.780"
      ]
     },
     "execution_count": 14,
     "metadata": {},
     "output_type": "execute_result"
    }
   ],
   "source": [
    "finland=data[ data['year'].between(2018,2021)].sort_values('Life Ladder',ascending=False).head(3) [['Country name','year','Life Ladder']]\n",
    "finland"
   ]
  },
  {
   "cell_type": "code",
   "execution_count": 15,
   "metadata": {},
   "outputs": [
    {
     "data": {
      "text/plain": [
       "array([[2020.   ,    7.889],\n",
       "       [2018.   ,    7.858],\n",
       "       [2017.   ,    7.788]])"
      ]
     },
     "execution_count": 15,
     "metadata": {},
     "output_type": "execute_result"
    }
   ],
   "source": [
    "x=data[ data['year'].between(2016,2021)].sort_values('Life Ladder',ascending=False).head(3) [['year','Life Ladder']]\n",
    "p=x.to_numpy()\n",
    "p"
   ]
  },
  {
   "cell_type": "code",
   "execution_count": 16,
   "metadata": {
    "collapsed": false,
    "pycharm": {
     "name": "#%%\n"
    }
   },
   "outputs": [
    {
     "data": {
      "image/png": "[encoded data removed]",
      "text/plain": [
       "<Figure size 432x288 with 1 Axes>"
      ]
     },
     "metadata": {
      "needs_background": "light"
     },
     "output_type": "display_data"
    }
   ],
   "source": [
    "x=[p[0,0],p[1,0],p[2,0]]\n",
    "y=[p[0,1],p[1,1],p[2,1]]\n",
    "plt.plot(x,y, linestyle='-', marker='o', markerfacecolor='red', markersize=12, color='skyblue', linewidth=4)\n",
    "# plt.title('highest Countries OF Life Ladder ')\n",
    "plt.xlabel('Years')\n",
    "plt.ylabel('Life Ladder')\n",
    "plt.show()"
   ]
  },
  {
   "cell_type": "markdown",
   "metadata": {},
   "source": [
    "<h1 style='color:#33ff77'>Q5) Which Country have the Lowest Life Ladder in The Last Five Years.?? </h1>"
   ]
  },
  {
   "cell_type": "code",
   "execution_count": 17,
   "metadata": {},
   "outputs": [
    {
     "data": {
      "text/html": [
       "<div>\n",
       "<style scoped>\n",
       "    .dataframe tbody tr th:only-of-type {\n",
       "        vertical-align: middle;\n",
       "    }\n",
       "\n",
       "    .dataframe tbody tr th {\n",
       "        vertical-align: top;\n",
       "    }\n",
       "\n",
       "    .dataframe thead th {\n",
       "        text-align: right;\n",
       "    }\n",
       "</style>\n",
       "<table border=\"1\" class=\"dataframe\">\n",
       "  <thead>\n",
       "    <tr style=\"text-align: right;\">\n",
       "      <th></th>\n",
       "      <th>Country name</th>\n",
       "      <th>year</th>\n",
       "      <th>Life Ladder</th>\n",
       "    </tr>\n",
       "  </thead>\n",
       "  <tbody>\n",
       "    <tr>\n",
       "      <th>311</th>\n",
       "      <td>Central African Republic</td>\n",
       "      <td>2016</td>\n",
       "      <td>2.693</td>\n",
       "    </tr>\n",
       "    <tr>\n",
       "      <th>9</th>\n",
       "      <td>Afghanistan</td>\n",
       "      <td>2017</td>\n",
       "      <td>2.662</td>\n",
       "    </tr>\n",
       "    <tr>\n",
       "      <th>11</th>\n",
       "      <td>Afghanistan</td>\n",
       "      <td>2019</td>\n",
       "      <td>2.375</td>\n",
       "    </tr>\n",
       "  </tbody>\n",
       "</table>\n",
       "</div>"
      ],
      "text/plain": [
       "                 Country name  year  Life Ladder\n",
       "311  Central African Republic  2016        2.693\n",
       "9                 Afghanistan  2017        2.662\n",
       "11                Afghanistan  2019        2.375"
      ]
     },
     "execution_count": 17,
     "metadata": {},
     "output_type": "execute_result"
    }
   ],
   "source": [
    "data[ data['year'].between(2016,2021)].sort_values('Life Ladder',ascending=False).tail(3) [['Country name','year','Life Ladder']]"
   ]
  },
  {
   "cell_type": "code",
   "execution_count": 18,
   "metadata": {},
   "outputs": [
    {
     "data": {
      "image/png": "[encoded data removed]",
      "text/plain": [
       "<Figure size 432x288 with 1 Axes>"
      ]
     },
     "metadata": {
      "needs_background": "light"
     },
     "output_type": "display_data"
    }
   ],
   "source": [
    "x=data[ data['year'].between(2016,2021)].sort_values('Life Ladder',ascending=False).tail(3) [['year','Life Ladder']]\n",
    "p=x.to_numpy()\n",
    "x=[p[0,0],p[1,0],p[2,0]]\n",
    "y=[p[0,1],p[1,1],p[2,1]]\n",
    "plt.plot(x,y, linestyle='-', marker='o')\n",
    "plt.title('Lowest Countries OF Life Ladder')\n",
    "plt.xlabel('Years')\n",
    "plt.ylabel('Life Ladder')\n",
    "plt.show()"
   ]
  },
  {
   "cell_type": "markdown",
   "metadata": {},
   "source": [
    "<h1 style='color:#33ff77'>Q6) In last five years, What's the relationship among Life Ladder, GDP, and Social support in Countries with high Life Ladder ratio ?? </h1>"
   ]
  },
  {
   "cell_type": "code",
   "execution_count": 19,
   "metadata": {},
   "outputs": [
    {
     "data": {
      "image/png": "[encoded data removed]",
      "text/plain": [
       "<Figure size 432x288 with 1 Axes>"
      ]
     },
     "metadata": {
      "needs_background": "light"
     },
     "output_type": "display_data"
    }
   ],
   "source": [
    "df=data[ data['year'].between(2016,2021)].sort_values('Life Ladder',ascending=False).head(3) [['year','Life Ladder','Log GDP per capita','Social support']]\n",
    "df\n",
    "\n",
    "# multiple line plots\n",
    "plt.plot( 'year', 'Life Ladder', data=df, marker='o', markerfacecolor='aqua', markersize=12, color='skyblue', linewidth=4)\n",
    "plt.plot( 'year', 'Log GDP per capita', data=df, marker='', color='red', linewidth=2)\n",
    "plt.plot( 'year', 'Social support', data=df, marker='', color='yellow', linewidth=2, linestyle='dashed')\n",
    "\n",
    "# show legend\n",
    "plt.legend()\n",
    "\n",
    "# show graph\n",
    "plt.show()"
   ]
  },
  {
   "cell_type": "code",
   "execution_count": 20,
   "metadata": {},
   "outputs": [
    {
     "data": {
      "text/html": [
       "<div>\n",
       "<style scoped>\n",
       "    .dataframe tbody tr th:only-of-type {\n",
       "        vertical-align: middle;\n",
       "    }\n",
       "\n",
       "    .dataframe tbody tr th {\n",
       "        vertical-align: top;\n",
       "    }\n",
       "\n",
       "    .dataframe thead th {\n",
       "        text-align: right;\n",
       "    }\n",
       "</style>\n",
       "<table border=\"1\" class=\"dataframe\">\n",
       "  <thead>\n",
       "    <tr style=\"text-align: right;\">\n",
       "      <th></th>\n",
       "      <th>year</th>\n",
       "      <th>Life Ladder</th>\n",
       "      <th>Log GDP per capita</th>\n",
       "      <th>Social support</th>\n",
       "    </tr>\n",
       "  </thead>\n",
       "  <tbody>\n",
       "    <tr>\n",
       "      <th>563</th>\n",
       "      <td>2020</td>\n",
       "      <td>7.889</td>\n",
       "      <td>10.750</td>\n",
       "      <td>0.962</td>\n",
       "    </tr>\n",
       "    <tr>\n",
       "      <th>561</th>\n",
       "      <td>2018</td>\n",
       "      <td>7.858</td>\n",
       "      <td>10.783</td>\n",
       "      <td>0.962</td>\n",
       "    </tr>\n",
       "    <tr>\n",
       "      <th>560</th>\n",
       "      <td>2017</td>\n",
       "      <td>7.788</td>\n",
       "      <td>10.768</td>\n",
       "      <td>0.964</td>\n",
       "    </tr>\n",
       "  </tbody>\n",
       "</table>\n",
       "</div>"
      ],
      "text/plain": [
       "     year  Life Ladder  Log GDP per capita  Social support\n",
       "563  2020        7.889              10.750           0.962\n",
       "561  2018        7.858              10.783           0.962\n",
       "560  2017        7.788              10.768           0.964"
      ]
     },
     "execution_count": 20,
     "metadata": {},
     "output_type": "execute_result"
    }
   ],
   "source": [
    "\n",
    "df"
   ]
  },
  {
   "cell_type": "markdown",
   "metadata": {},
   "source": [
    "<h1 style='color:#33ff77'>Q7) In last five years, What's the relationship among Life Ladder, GDP, and Social support in Countries with low Life Ladder ratio ?? </h1>"
   ]
  },
  {
   "cell_type": "code",
   "execution_count": 21,
   "metadata": {},
   "outputs": [
    {
     "data": {
      "image/png": "[encoded data removed]",
      "text/plain": [
       "<Figure size 432x288 with 1 Axes>"
      ]
     },
     "metadata": {
      "needs_background": "light"
     },
     "output_type": "display_data"
    }
   ],
   "source": [
    "df=data[ data['year'].between(2016,2021)].sort_values('Life Ladder',ascending=False).tail(3) [['year','Life Ladder','Log GDP per capita','Social support']]\n",
    "df\n",
    "\n",
    "# multiple line plots\n",
    "plt.plot( 'year', 'Life Ladder', data=df, marker='o', markerfacecolor='aqua', markersize=12, color='skyblue', linewidth=4)\n",
    "plt.plot( 'year', 'Log GDP per capita', data=df, marker='v', color='red', linewidth=2)\n",
    "plt.plot( 'year', 'Social support', data=df, marker='v', color='yellow', linewidth=2, linestyle='dashed')\n",
    "\n",
    "# show legend\n",
    "plt.legend()\n",
    "\n",
    "# show graph\n",
    "plt.show()"
   ]
  },
  {
   "cell_type": "markdown",
   "metadata": {},
   "source": [
    "<h1 style='color:#33ff77'>Q8) What is the percentage of corruption in the last three years and its relationship with Log GDP per capita? </h1>"
   ]
  },
  {
   "cell_type": "code",
   "execution_count": 22,
   "metadata": {},
   "outputs": [],
   "source": [
    "high=data[ data['year'].between(2018,2021)].sort_values('Log GDP per capita',ascending=False).head(20) [['year','Log GDP per capita','Perceptions of corruption']]\n",
    "low=data[ data['year'].between(2018,2021)].sort_values('Log GDP per capita',ascending=False).tail(20) [['year','Log GDP per capita','Perceptions of corruption']]"
   ]
  },
  {
   "cell_type": "code",
   "execution_count": 23,
   "metadata": {},
   "outputs": [
    {
     "data": {
      "text/html": [
       "<div>\n",
       "<style scoped>\n",
       "    .dataframe tbody tr th:only-of-type {\n",
       "        vertical-align: middle;\n",
       "    }\n",
       "\n",
       "    .dataframe tbody tr th {\n",
       "        vertical-align: top;\n",
       "    }\n",
       "\n",
       "    .dataframe thead th {\n",
       "        text-align: right;\n",
       "    }\n",
       "</style>\n",
       "<table border=\"1\" class=\"dataframe\">\n",
       "  <thead>\n",
       "    <tr style=\"text-align: right;\">\n",
       "      <th></th>\n",
       "      <th>year</th>\n",
       "      <th>Log GDP per capita</th>\n",
       "      <th>Perceptions of corruption</th>\n",
       "    </tr>\n",
       "  </thead>\n",
       "  <tbody>\n",
       "    <tr>\n",
       "      <th>1919</th>\n",
       "      <td>2019</td>\n",
       "      <td>7.578</td>\n",
       "      <td>0.798</td>\n",
       "    </tr>\n",
       "    <tr>\n",
       "      <th>1918</th>\n",
       "      <td>2018</td>\n",
       "      <td>7.578</td>\n",
       "      <td>0.793</td>\n",
       "    </tr>\n",
       "    <tr>\n",
       "      <th>684</th>\n",
       "      <td>2018</td>\n",
       "      <td>7.477</td>\n",
       "      <td>0.720</td>\n",
       "    </tr>\n",
       "    <tr>\n",
       "      <th>1520</th>\n",
       "      <td>2019</td>\n",
       "      <td>7.449</td>\n",
       "      <td>0.874</td>\n",
       "    </tr>\n",
       "    <tr>\n",
       "      <th>1519</th>\n",
       "      <td>2018</td>\n",
       "      <td>7.417</td>\n",
       "      <td>0.856</td>\n",
       "    </tr>\n",
       "    <tr>\n",
       "      <th>1037</th>\n",
       "      <td>2019</td>\n",
       "      <td>7.406</td>\n",
       "      <td>0.720</td>\n",
       "    </tr>\n",
       "    <tr>\n",
       "      <th>1036</th>\n",
       "      <td>2018</td>\n",
       "      <td>7.386</td>\n",
       "      <td>0.889</td>\n",
       "    </tr>\n",
       "    <tr>\n",
       "      <th>1735</th>\n",
       "      <td>2019</td>\n",
       "      <td>7.375</td>\n",
       "      <td>0.737</td>\n",
       "    </tr>\n",
       "    <tr>\n",
       "      <th>326</th>\n",
       "      <td>2019</td>\n",
       "      <td>7.365</td>\n",
       "      <td>0.832</td>\n",
       "    </tr>\n",
       "    <tr>\n",
       "      <th>325</th>\n",
       "      <td>2018</td>\n",
       "      <td>7.363</td>\n",
       "      <td>0.763</td>\n",
       "    </tr>\n",
       "    <tr>\n",
       "      <th>1734</th>\n",
       "      <td>2018</td>\n",
       "      <td>7.348</td>\n",
       "      <td>0.809</td>\n",
       "    </tr>\n",
       "    <tr>\n",
       "      <th>993</th>\n",
       "      <td>2018</td>\n",
       "      <td>7.311</td>\n",
       "      <td>0.868</td>\n",
       "    </tr>\n",
       "    <tr>\n",
       "      <th>994</th>\n",
       "      <td>2019</td>\n",
       "      <td>7.264</td>\n",
       "      <td>0.828</td>\n",
       "    </tr>\n",
       "    <tr>\n",
       "      <th>1180</th>\n",
       "      <td>2018</td>\n",
       "      <td>7.162</td>\n",
       "      <td>0.691</td>\n",
       "    </tr>\n",
       "    <tr>\n",
       "      <th>1181</th>\n",
       "      <td>2019</td>\n",
       "      <td>7.155</td>\n",
       "      <td>0.682</td>\n",
       "    </tr>\n",
       "    <tr>\n",
       "      <th>1266</th>\n",
       "      <td>2019</td>\n",
       "      <td>7.106</td>\n",
       "      <td>0.729</td>\n",
       "    </tr>\n",
       "    <tr>\n",
       "      <th>1265</th>\n",
       "      <td>2018</td>\n",
       "      <td>7.087</td>\n",
       "      <td>0.637</td>\n",
       "    </tr>\n",
       "    <tr>\n",
       "      <th>1049</th>\n",
       "      <td>2019</td>\n",
       "      <td>6.966</td>\n",
       "      <td>0.680</td>\n",
       "    </tr>\n",
       "    <tr>\n",
       "      <th>1048</th>\n",
       "      <td>2018</td>\n",
       "      <td>6.949</td>\n",
       "      <td>0.766</td>\n",
       "    </tr>\n",
       "    <tr>\n",
       "      <th>262</th>\n",
       "      <td>2018</td>\n",
       "      <td>6.635</td>\n",
       "      <td>0.599</td>\n",
       "    </tr>\n",
       "  </tbody>\n",
       "</table>\n",
       "</div>"
      ],
      "text/plain": [
       "      year  Log GDP per capita  Perceptions of corruption\n",
       "1919  2019               7.578                      0.798\n",
       "1918  2018               7.578                      0.793\n",
       "684   2018               7.477                      0.720\n",
       "1520  2019               7.449                      0.874\n",
       "1519  2018               7.417                      0.856\n",
       "1037  2019               7.406                      0.720\n",
       "1036  2018               7.386                      0.889\n",
       "1735  2019               7.375                      0.737\n",
       "326   2019               7.365                      0.832\n",
       "325   2018               7.363                      0.763\n",
       "1734  2018               7.348                      0.809\n",
       "993   2018               7.311                      0.868\n",
       "994   2019               7.264                      0.828\n",
       "1180  2018               7.162                      0.691\n",
       "1181  2019               7.155                      0.682\n",
       "1266  2019               7.106                      0.729\n",
       "1265  2018               7.087                      0.637\n",
       "1049  2019               6.966                      0.680\n",
       "1048  2018               6.949                      0.766\n",
       "262   2018               6.635                      0.599"
      ]
     },
     "execution_count": 23,
     "metadata": {},
     "output_type": "execute_result"
    }
   ],
   "source": [
    "low"
   ]
  },
  {
   "cell_type": "code",
   "execution_count": 24,
   "metadata": {},
   "outputs": [
    {
     "data": {
      "image/png": "[encoded data removed]",
      "text/plain": [
       "<Figure size 432x288 with 1 Axes>"
      ]
     },
     "metadata": {
      "needs_background": "light"
     },
     "output_type": "display_data"
    }
   ],
   "source": [
    "\n",
    "plt.plot('Log GDP per capita', 'Perceptions of corruption', data=high, marker='', color='blue', linewidth=2)\n",
    "plt.title('Relation Between Log GDP per capita and  Perceptions of corruption ')\n",
    "plt.show()\n",
    "\n",
    "\n"
   ]
  },
  {
   "cell_type": "markdown",
   "metadata": {
    "collapsed": false
   },
   "source": []
  },
  {
   "cell_type": "code",
   "execution_count": 25,
   "metadata": {},
   "outputs": [
    {
     "data": {
      "image/png": "[encoded data removed]",
      "text/plain": [
       "<Figure size 432x288 with 1 Axes>"
      ]
     },
     "metadata": {
      "needs_background": "light"
     },
     "output_type": "display_data"
    }
   ],
   "source": [
    "plt.plot('Log GDP per capita', 'Perceptions of corruption', data=low, marker='', color='red', linewidth=2)\n",
    "plt.title('Relation Between Log GDP per capita and  Perceptions of corruption ')\n",
    "plt.show()"
   ]
  },
  {
   "cell_type": "code",
   "execution_count": 26,
   "metadata": {},
   "outputs": [
    {
     "data": {
      "text/html": [
       "<div>\n",
       "<style scoped>\n",
       "    .dataframe tbody tr th:only-of-type {\n",
       "        vertical-align: middle;\n",
       "    }\n",
       "\n",
       "    .dataframe tbody tr th {\n",
       "        vertical-align: top;\n",
       "    }\n",
       "\n",
       "    .dataframe thead th {\n",
       "        text-align: right;\n",
       "    }\n",
       "</style>\n",
       "<table border=\"1\" class=\"dataframe\">\n",
       "  <thead>\n",
       "    <tr style=\"text-align: right;\">\n",
       "      <th></th>\n",
       "      <th>Country name</th>\n",
       "      <th>year</th>\n",
       "      <th>Life Ladder</th>\n",
       "      <th>Log GDP per capita</th>\n",
       "      <th>Social support</th>\n",
       "      <th>Healthy life expectancy at birth</th>\n",
       "      <th>Freedom to make life choices</th>\n",
       "      <th>Generosity</th>\n",
       "      <th>Perceptions of corruption</th>\n",
       "      <th>Positive affect</th>\n",
       "      <th>Negative affect</th>\n",
       "    </tr>\n",
       "  </thead>\n",
       "  <tbody>\n",
       "    <tr>\n",
       "      <th>0</th>\n",
       "      <td>Afghanistan</td>\n",
       "      <td>2008</td>\n",
       "      <td>3.724</td>\n",
       "      <td>7.370</td>\n",
       "      <td>0.451</td>\n",
       "      <td>50.80</td>\n",
       "      <td>0.718</td>\n",
       "      <td>0.168</td>\n",
       "      <td>0.882</td>\n",
       "      <td>0.518</td>\n",
       "      <td>0.258</td>\n",
       "    </tr>\n",
       "    <tr>\n",
       "      <th>1</th>\n",
       "      <td>Afghanistan</td>\n",
       "      <td>2009</td>\n",
       "      <td>4.402</td>\n",
       "      <td>7.540</td>\n",
       "      <td>0.552</td>\n",
       "      <td>51.20</td>\n",
       "      <td>0.679</td>\n",
       "      <td>0.190</td>\n",
       "      <td>0.850</td>\n",
       "      <td>0.584</td>\n",
       "      <td>0.237</td>\n",
       "    </tr>\n",
       "    <tr>\n",
       "      <th>2</th>\n",
       "      <td>Afghanistan</td>\n",
       "      <td>2010</td>\n",
       "      <td>4.758</td>\n",
       "      <td>7.647</td>\n",
       "      <td>0.539</td>\n",
       "      <td>51.60</td>\n",
       "      <td>0.600</td>\n",
       "      <td>0.121</td>\n",
       "      <td>0.707</td>\n",
       "      <td>0.618</td>\n",
       "      <td>0.275</td>\n",
       "    </tr>\n",
       "    <tr>\n",
       "      <th>3</th>\n",
       "      <td>Afghanistan</td>\n",
       "      <td>2011</td>\n",
       "      <td>3.832</td>\n",
       "      <td>7.620</td>\n",
       "      <td>0.521</td>\n",
       "      <td>51.92</td>\n",
       "      <td>0.496</td>\n",
       "      <td>0.162</td>\n",
       "      <td>0.731</td>\n",
       "      <td>0.611</td>\n",
       "      <td>0.267</td>\n",
       "    </tr>\n",
       "    <tr>\n",
       "      <th>4</th>\n",
       "      <td>Afghanistan</td>\n",
       "      <td>2012</td>\n",
       "      <td>3.783</td>\n",
       "      <td>7.705</td>\n",
       "      <td>0.521</td>\n",
       "      <td>52.24</td>\n",
       "      <td>0.531</td>\n",
       "      <td>0.236</td>\n",
       "      <td>0.776</td>\n",
       "      <td>0.710</td>\n",
       "      <td>0.268</td>\n",
       "    </tr>\n",
       "  </tbody>\n",
       "</table>\n",
       "</div>"
      ],
      "text/plain": [
       "  Country name  year  Life Ladder  Log GDP per capita  Social support  \\\n",
       "0  Afghanistan  2008        3.724               7.370           0.451   \n",
       "1  Afghanistan  2009        4.402               7.540           0.552   \n",
       "2  Afghanistan  2010        4.758               7.647           0.539   \n",
       "3  Afghanistan  2011        3.832               7.620           0.521   \n",
       "4  Afghanistan  2012        3.783               7.705           0.521   \n",
       "\n",
       "   Healthy life expectancy at birth  Freedom to make life choices  Generosity  \\\n",
       "0                             50.80                         0.718       0.168   \n",
       "1                             51.20                         0.679       0.190   \n",
       "2                             51.60                         0.600       0.121   \n",
       "3                             51.92                         0.496       0.162   \n",
       "4                             52.24                         0.531       0.236   \n",
       "\n",
       "   Perceptions of corruption  Positive affect  Negative affect  \n",
       "0                      0.882            0.518            0.258  \n",
       "1                      0.850            0.584            0.237  \n",
       "2                      0.707            0.618            0.275  \n",
       "3                      0.731            0.611            0.267  \n",
       "4                      0.776            0.710            0.268  "
      ]
     },
     "execution_count": 26,
     "metadata": {},
     "output_type": "execute_result"
    }
   ],
   "source": [
    "data.head()"
   ]
  },
  {
   "cell_type": "markdown",
   "metadata": {},
   "source": [
    "<h1 style='color:#33ff77'>Q9.1) What is the relationship between the Negative affect and Log GDP per capita Corresponding to Life Ladder? </h1>"
   ]
  },
  {
   "cell_type": "code",
   "execution_count": 27,
   "metadata": {},
   "outputs": [
    {
     "data": {
      "text/html": [
       "<div>\n",
       "<style scoped>\n",
       "    .dataframe tbody tr th:only-of-type {\n",
       "        vertical-align: middle;\n",
       "    }\n",
       "\n",
       "    .dataframe tbody tr th {\n",
       "        vertical-align: top;\n",
       "    }\n",
       "\n",
       "    .dataframe thead th {\n",
       "        text-align: right;\n",
       "    }\n",
       "</style>\n",
       "<table border=\"1\" class=\"dataframe\">\n",
       "  <thead>\n",
       "    <tr style=\"text-align: right;\">\n",
       "      <th></th>\n",
       "      <th>Negative affect</th>\n",
       "      <th>Log GDP per capita</th>\n",
       "      <th>Life Ladder</th>\n",
       "    </tr>\n",
       "  </thead>\n",
       "  <tbody>\n",
       "    <tr>\n",
       "      <th>1666</th>\n",
       "      <td>0.705</td>\n",
       "      <td>8.563</td>\n",
       "      <td>3.164</td>\n",
       "    </tr>\n",
       "    <tr>\n",
       "      <th>1668</th>\n",
       "      <td>0.643</td>\n",
       "      <td>8.442</td>\n",
       "      <td>3.462</td>\n",
       "    </tr>\n",
       "    <tr>\n",
       "      <th>1667</th>\n",
       "      <td>0.622</td>\n",
       "      <td>8.396</td>\n",
       "      <td>2.688</td>\n",
       "    </tr>\n",
       "    <tr>\n",
       "      <th>312</th>\n",
       "      <td>0.599</td>\n",
       "      <td>6.817</td>\n",
       "      <td>3.476</td>\n",
       "    </tr>\n",
       "    <tr>\n",
       "      <th>783</th>\n",
       "      <td>0.591</td>\n",
       "      <td>9.303</td>\n",
       "      <td>4.462</td>\n",
       "    </tr>\n",
       "    <tr>\n",
       "      <th>781</th>\n",
       "      <td>0.581</td>\n",
       "      <td>9.241</td>\n",
       "      <td>4.493</td>\n",
       "    </tr>\n",
       "    <tr>\n",
       "      <th>782</th>\n",
       "      <td>0.570</td>\n",
       "      <td>9.354</td>\n",
       "      <td>4.413</td>\n",
       "    </tr>\n",
       "    <tr>\n",
       "      <th>780</th>\n",
       "      <td>0.564</td>\n",
       "      <td>9.250</td>\n",
       "      <td>4.542</td>\n",
       "    </tr>\n",
       "    <tr>\n",
       "      <th>777</th>\n",
       "      <td>0.557</td>\n",
       "      <td>9.152</td>\n",
       "      <td>4.725</td>\n",
       "    </tr>\n",
       "    <tr>\n",
       "      <th>779</th>\n",
       "      <td>0.554</td>\n",
       "      <td>9.280</td>\n",
       "      <td>4.725</td>\n",
       "    </tr>\n",
       "  </tbody>\n",
       "</table>\n",
       "</div>"
      ],
      "text/plain": [
       "      Negative affect  Log GDP per capita  Life Ladder\n",
       "1666            0.705               8.563        3.164\n",
       "1668            0.643               8.442        3.462\n",
       "1667            0.622               8.396        2.688\n",
       "312             0.599               6.817        3.476\n",
       "783             0.591               9.303        4.462\n",
       "781             0.581               9.241        4.493\n",
       "782             0.570               9.354        4.413\n",
       "780             0.564               9.250        4.542\n",
       "777             0.557               9.152        4.725\n",
       "779             0.554               9.280        4.725"
      ]
     },
     "execution_count": 27,
     "metadata": {},
     "output_type": "execute_result"
    }
   ],
   "source": [
    "neg=data[['Negative affect','Log GDP per capita','Life Ladder']].sort_values('Negative affect',ascending=False).head(10) \n",
    "neg\n"
   ]
  },
  {
   "cell_type": "code",
   "execution_count": 28,
   "metadata": {},
   "outputs": [
    {
     "data": {
      "image/png": "[encoded data removed]",
      "text/plain": [
       "<Figure size 432x288 with 1 Axes>"
      ]
     },
     "metadata": {
      "needs_background": "light"
     },
     "output_type": "display_data"
    }
   ],
   "source": [
    "plt.scatter(x=neg['Negative affect'],y=neg['Life Ladder'], color = '#88c999')\n",
    "plt.scatter(x=neg['Negative affect'],y=neg['Log GDP per capita'], color = 'hotpink')\n",
    "plt.show()"
   ]
  },
  {
   "cell_type": "markdown",
   "metadata": {},
   "source": [
    "<h1 style='color:#33ff77'>Q9.2) What is the relationship between the Positive affect and Log GDP per capita Corresponding to Life Ladder? </h1>"
   ]
  },
  {
   "cell_type": "code",
   "execution_count": 29,
   "metadata": {},
   "outputs": [
    {
     "data": {
      "text/html": [
       "<div>\n",
       "<style scoped>\n",
       "    .dataframe tbody tr th:only-of-type {\n",
       "        vertical-align: middle;\n",
       "    }\n",
       "\n",
       "    .dataframe tbody tr th {\n",
       "        vertical-align: top;\n",
       "    }\n",
       "\n",
       "    .dataframe thead th {\n",
       "        text-align: right;\n",
       "    }\n",
       "</style>\n",
       "<table border=\"1\" class=\"dataframe\">\n",
       "  <thead>\n",
       "    <tr style=\"text-align: right;\">\n",
       "      <th></th>\n",
       "      <th>Positive affect</th>\n",
       "      <th>Log GDP per capita</th>\n",
       "      <th>Life Ladder</th>\n",
       "    </tr>\n",
       "  </thead>\n",
       "  <tbody>\n",
       "    <tr>\n",
       "      <th>1361</th>\n",
       "      <td>0.944</td>\n",
       "      <td>9.360</td>\n",
       "      <td>5.119</td>\n",
       "    </tr>\n",
       "    <tr>\n",
       "      <th>1717</th>\n",
       "      <td>0.934</td>\n",
       "      <td>9.579</td>\n",
       "      <td>6.664</td>\n",
       "    </tr>\n",
       "    <tr>\n",
       "      <th>1363</th>\n",
       "      <td>0.925</td>\n",
       "      <td>9.406</td>\n",
       "      <td>5.801</td>\n",
       "    </tr>\n",
       "    <tr>\n",
       "      <th>1360</th>\n",
       "      <td>0.919</td>\n",
       "      <td>9.326</td>\n",
       "      <td>5.936</td>\n",
       "    </tr>\n",
       "    <tr>\n",
       "      <th>949</th>\n",
       "      <td>0.917</td>\n",
       "      <td>8.611</td>\n",
       "      <td>4.876</td>\n",
       "    </tr>\n",
       "    <tr>\n",
       "      <th>1721</th>\n",
       "      <td>0.910</td>\n",
       "      <td>9.699</td>\n",
       "      <td>6.202</td>\n",
       "    </tr>\n",
       "    <tr>\n",
       "      <th>1738</th>\n",
       "      <td>0.906</td>\n",
       "      <td>10.263</td>\n",
       "      <td>6.519</td>\n",
       "    </tr>\n",
       "    <tr>\n",
       "      <th>1364</th>\n",
       "      <td>0.903</td>\n",
       "      <td>9.441</td>\n",
       "      <td>5.713</td>\n",
       "    </tr>\n",
       "    <tr>\n",
       "      <th>1716</th>\n",
       "      <td>0.901</td>\n",
       "      <td>9.576</td>\n",
       "      <td>6.217</td>\n",
       "    </tr>\n",
       "    <tr>\n",
       "      <th>1560</th>\n",
       "      <td>0.901</td>\n",
       "      <td>10.478</td>\n",
       "      <td>5.354</td>\n",
       "    </tr>\n",
       "  </tbody>\n",
       "</table>\n",
       "</div>"
      ],
      "text/plain": [
       "      Positive affect  Log GDP per capita  Life Ladder\n",
       "1361            0.944               9.360        5.119\n",
       "1717            0.934               9.579        6.664\n",
       "1363            0.925               9.406        5.801\n",
       "1360            0.919               9.326        5.936\n",
       "949             0.917               8.611        4.876\n",
       "1721            0.910               9.699        6.202\n",
       "1738            0.906              10.263        6.519\n",
       "1364            0.903               9.441        5.713\n",
       "1716            0.901               9.576        6.217\n",
       "1560            0.901              10.478        5.354"
      ]
     },
     "execution_count": 29,
     "metadata": {},
     "output_type": "execute_result"
    }
   ],
   "source": [
    "pos=data[['Positive affect','Log GDP per capita','Life Ladder']].sort_values('Positive affect',ascending=False).head(10) \n",
    "pos"
   ]
  },
  {
   "cell_type": "code",
   "execution_count": 30,
   "metadata": {},
   "outputs": [
    {
     "data": {
      "image/png": "[encoded data removed]",
      "text/plain": [
       "<Figure size 432x288 with 1 Axes>"
      ]
     },
     "metadata": {
      "needs_background": "light"
     },
     "output_type": "display_data"
    }
   ],
   "source": [
    "plt.scatter(x=pos['Positive affect'],y=pos['Life Ladder'], color = '#88c999')\n",
    "plt.scatter(x=pos['Positive affect'],y=pos['Log GDP per capita'], color = 'hotpink')\n",
    "plt.show()"
   ]
  },
  {
   "cell_type": "markdown",
   "metadata": {},
   "source": [
    "<h1 style='color:#33ff77'>Q10.1) What is the avreage of Healthy life expectancy at birth in Counrty that had life ladder higer than 5.5 ? </h1>"
   ]
  },
  {
   "cell_type": "code",
   "execution_count": 31,
   "metadata": {},
   "outputs": [
    {
     "data": {
      "text/plain": [
       "68.41076411960132"
      ]
     },
     "execution_count": 31,
     "metadata": {},
     "output_type": "execute_result"
    }
   ],
   "source": [
    "hh=data[data['Life Ladder']>5.5].sort_values('Healthy life expectancy at birth',ascending=False)[['Country name','Life Ladder','Healthy life expectancy at birth']]\n",
    "hh['Healthy life expectancy at birth'].mean()"
   ]
  },
  {
   "cell_type": "markdown",
   "metadata": {},
   "source": [
    "<h1 style='color:#33ff77'>Q10.2\n",
    ") What is the avreage of Healthy life expectancy at birth in Counrty that had life ladder lower than 5.5 ? </h1>"
   ]
  },
  {
   "cell_type": "code",
   "execution_count": 32,
   "metadata": {},
   "outputs": [
    {
     "data": {
      "text/plain": [
       "58.926466539196944"
      ]
     },
     "execution_count": 32,
     "metadata": {},
     "output_type": "execute_result"
    }
   ],
   "source": [
    "hl=data[data['Life Ladder']<5.5].sort_values('Healthy life expectancy at birth',ascending=False)[['Country name','Life Ladder','Healthy life expectancy at birth']]\n",
    "hl['Healthy life expectancy at birth'].mean()"
   ]
  },
  {
   "cell_type": "code",
   "execution_count": 33,
   "metadata": {},
   "outputs": [
    {
     "data": {
      "image/png": "[encoded data removed]",
      "text/plain": [
       "<Figure size 432x288 with 1 Axes>"
      ]
     },
     "metadata": {
      "needs_background": "light"
     },
     "output_type": "display_data"
    }
   ],
   "source": [
    "plt.plot('Healthy life expectancy at birth' ,'Life Ladder', data=hl.head(20), marker='o', color='red', linewidth=2)\n",
    "plt.plot( 'Healthy life expectancy at birth' ,'Life Ladder', data=hh.head(20), marker='o', markerfacecolor='aqua', markersize=12, color='skyblue', linewidth=2)\n",
    "plt.show()"
   ]
  },
  {
   "cell_type": "markdown",
   "metadata": {},
   "source": [
    "<h1 style='color:#33ff77'>Q11) What is the average Life Ladder rate in Egypt in the last three years, compared to Finland which has higher Life Ladder? ? </h1>"
   ]
  },
  {
   "cell_type": "code",
   "execution_count": 34,
   "metadata": {},
   "outputs": [
    {
     "data": {
      "text/html": [
       "<div>\n",
       "<style scoped>\n",
       "    .dataframe tbody tr th:only-of-type {\n",
       "        vertical-align: middle;\n",
       "    }\n",
       "\n",
       "    .dataframe tbody tr th {\n",
       "        vertical-align: top;\n",
       "    }\n",
       "\n",
       "    .dataframe thead th {\n",
       "        text-align: right;\n",
       "    }\n",
       "</style>\n",
       "<table border=\"1\" class=\"dataframe\">\n",
       "  <thead>\n",
       "    <tr style=\"text-align: right;\">\n",
       "      <th></th>\n",
       "      <th>Country name</th>\n",
       "      <th>year</th>\n",
       "      <th>Life Ladder</th>\n",
       "      <th>Log GDP per capita</th>\n",
       "      <th>Social support</th>\n",
       "      <th>Healthy life expectancy at birth</th>\n",
       "      <th>Freedom to make life choices</th>\n",
       "      <th>Generosity</th>\n",
       "      <th>Perceptions of corruption</th>\n",
       "      <th>Positive affect</th>\n",
       "      <th>Negative affect</th>\n",
       "    </tr>\n",
       "  </thead>\n",
       "  <tbody>\n",
       "    <tr>\n",
       "      <th>498</th>\n",
       "      <td>Egypt</td>\n",
       "      <td>2005</td>\n",
       "      <td>5.168</td>\n",
       "      <td>9.036</td>\n",
       "      <td>0.848</td>\n",
       "      <td>59.70</td>\n",
       "      <td>0.817</td>\n",
       "      <td>-0.157</td>\n",
       "      <td>0.855</td>\n",
       "      <td>0.735</td>\n",
       "      <td>0.346</td>\n",
       "    </tr>\n",
       "    <tr>\n",
       "      <th>499</th>\n",
       "      <td>Egypt</td>\n",
       "      <td>2007</td>\n",
       "      <td>5.541</td>\n",
       "      <td>9.135</td>\n",
       "      <td>0.686</td>\n",
       "      <td>59.82</td>\n",
       "      <td>0.609</td>\n",
       "      <td>-0.121</td>\n",
       "      <td>0.855</td>\n",
       "      <td>0.665</td>\n",
       "      <td>0.355</td>\n",
       "    </tr>\n",
       "    <tr>\n",
       "      <th>500</th>\n",
       "      <td>Egypt</td>\n",
       "      <td>2008</td>\n",
       "      <td>4.632</td>\n",
       "      <td>9.186</td>\n",
       "      <td>0.738</td>\n",
       "      <td>59.88</td>\n",
       "      <td>0.609</td>\n",
       "      <td>-0.087</td>\n",
       "      <td>0.914</td>\n",
       "      <td>0.683</td>\n",
       "      <td>0.301</td>\n",
       "    </tr>\n",
       "    <tr>\n",
       "      <th>501</th>\n",
       "      <td>Egypt</td>\n",
       "      <td>2009</td>\n",
       "      <td>5.066</td>\n",
       "      <td>9.213</td>\n",
       "      <td>0.744</td>\n",
       "      <td>59.94</td>\n",
       "      <td>0.611</td>\n",
       "      <td>-0.100</td>\n",
       "      <td>0.801</td>\n",
       "      <td>0.642</td>\n",
       "      <td>0.339</td>\n",
       "    </tr>\n",
       "    <tr>\n",
       "      <th>502</th>\n",
       "      <td>Egypt</td>\n",
       "      <td>2010</td>\n",
       "      <td>4.669</td>\n",
       "      <td>9.244</td>\n",
       "      <td>0.769</td>\n",
       "      <td>60.00</td>\n",
       "      <td>0.486</td>\n",
       "      <td>-0.076</td>\n",
       "      <td>0.826</td>\n",
       "      <td>0.567</td>\n",
       "      <td>0.276</td>\n",
       "    </tr>\n",
       "    <tr>\n",
       "      <th>503</th>\n",
       "      <td>Egypt</td>\n",
       "      <td>2011</td>\n",
       "      <td>4.174</td>\n",
       "      <td>9.240</td>\n",
       "      <td>0.753</td>\n",
       "      <td>60.16</td>\n",
       "      <td>0.590</td>\n",
       "      <td>-0.151</td>\n",
       "      <td>0.859</td>\n",
       "      <td>0.529</td>\n",
       "      <td>0.353</td>\n",
       "    </tr>\n",
       "    <tr>\n",
       "      <th>504</th>\n",
       "      <td>Egypt</td>\n",
       "      <td>2012</td>\n",
       "      <td>4.204</td>\n",
       "      <td>9.240</td>\n",
       "      <td>0.737</td>\n",
       "      <td>60.32</td>\n",
       "      <td>0.452</td>\n",
       "      <td>-0.138</td>\n",
       "      <td>0.880</td>\n",
       "      <td>0.527</td>\n",
       "      <td>0.398</td>\n",
       "    </tr>\n",
       "    <tr>\n",
       "      <th>505</th>\n",
       "      <td>Egypt</td>\n",
       "      <td>2013</td>\n",
       "      <td>3.559</td>\n",
       "      <td>9.239</td>\n",
       "      <td>0.675</td>\n",
       "      <td>60.48</td>\n",
       "      <td>0.474</td>\n",
       "      <td>-0.141</td>\n",
       "      <td>0.913</td>\n",
       "      <td>0.551</td>\n",
       "      <td>0.483</td>\n",
       "    </tr>\n",
       "    <tr>\n",
       "      <th>506</th>\n",
       "      <td>Egypt</td>\n",
       "      <td>2014</td>\n",
       "      <td>4.885</td>\n",
       "      <td>9.245</td>\n",
       "      <td>0.619</td>\n",
       "      <td>60.64</td>\n",
       "      <td>0.578</td>\n",
       "      <td>-0.126</td>\n",
       "      <td>0.749</td>\n",
       "      <td>0.543</td>\n",
       "      <td>0.327</td>\n",
       "    </tr>\n",
       "    <tr>\n",
       "      <th>507</th>\n",
       "      <td>Egypt</td>\n",
       "      <td>2015</td>\n",
       "      <td>4.763</td>\n",
       "      <td>9.266</td>\n",
       "      <td>0.730</td>\n",
       "      <td>60.80</td>\n",
       "      <td>0.659</td>\n",
       "      <td>-0.089</td>\n",
       "      <td>0.684</td>\n",
       "      <td>0.610</td>\n",
       "      <td>0.344</td>\n",
       "    </tr>\n",
       "    <tr>\n",
       "      <th>508</th>\n",
       "      <td>Egypt</td>\n",
       "      <td>2016</td>\n",
       "      <td>4.557</td>\n",
       "      <td>9.287</td>\n",
       "      <td>0.809</td>\n",
       "      <td>61.10</td>\n",
       "      <td>0.656</td>\n",
       "      <td>-0.141</td>\n",
       "      <td>0.818</td>\n",
       "      <td>0.611</td>\n",
       "      <td>0.370</td>\n",
       "    </tr>\n",
       "    <tr>\n",
       "      <th>509</th>\n",
       "      <td>Egypt</td>\n",
       "      <td>2017</td>\n",
       "      <td>3.929</td>\n",
       "      <td>9.307</td>\n",
       "      <td>0.638</td>\n",
       "      <td>61.40</td>\n",
       "      <td>0.593</td>\n",
       "      <td>-0.152</td>\n",
       "      <td>0.818</td>\n",
       "      <td>0.539</td>\n",
       "      <td>0.414</td>\n",
       "    </tr>\n",
       "    <tr>\n",
       "      <th>510</th>\n",
       "      <td>Egypt</td>\n",
       "      <td>2018</td>\n",
       "      <td>4.005</td>\n",
       "      <td>9.338</td>\n",
       "      <td>0.759</td>\n",
       "      <td>61.70</td>\n",
       "      <td>0.682</td>\n",
       "      <td>-0.215</td>\n",
       "      <td>0.818</td>\n",
       "      <td>0.492</td>\n",
       "      <td>0.285</td>\n",
       "    </tr>\n",
       "    <tr>\n",
       "      <th>511</th>\n",
       "      <td>Egypt</td>\n",
       "      <td>2019</td>\n",
       "      <td>4.328</td>\n",
       "      <td>9.373</td>\n",
       "      <td>0.772</td>\n",
       "      <td>62.00</td>\n",
       "      <td>0.774</td>\n",
       "      <td>-0.199</td>\n",
       "      <td>0.818</td>\n",
       "      <td>0.517</td>\n",
       "      <td>0.313</td>\n",
       "    </tr>\n",
       "    <tr>\n",
       "      <th>512</th>\n",
       "      <td>Egypt</td>\n",
       "      <td>2020</td>\n",
       "      <td>4.472</td>\n",
       "      <td>9.383</td>\n",
       "      <td>0.673</td>\n",
       "      <td>62.30</td>\n",
       "      <td>0.770</td>\n",
       "      <td>-0.112</td>\n",
       "      <td>0.818</td>\n",
       "      <td>0.599</td>\n",
       "      <td>0.442</td>\n",
       "    </tr>\n",
       "  </tbody>\n",
       "</table>\n",
       "</div>"
      ],
      "text/plain": [
       "    Country name  year  Life Ladder  Log GDP per capita  Social support  \\\n",
       "498        Egypt  2005        5.168               9.036           0.848   \n",
       "499        Egypt  2007        5.541               9.135           0.686   \n",
       "500        Egypt  2008        4.632               9.186           0.738   \n",
       "501        Egypt  2009        5.066               9.213           0.744   \n",
       "502        Egypt  2010        4.669               9.244           0.769   \n",
       "503        Egypt  2011        4.174               9.240           0.753   \n",
       "504        Egypt  2012        4.204               9.240           0.737   \n",
       "505        Egypt  2013        3.559               9.239           0.675   \n",
       "506        Egypt  2014        4.885               9.245           0.619   \n",
       "507        Egypt  2015        4.763               9.266           0.730   \n",
       "508        Egypt  2016        4.557               9.287           0.809   \n",
       "509        Egypt  2017        3.929               9.307           0.638   \n",
       "510        Egypt  2018        4.005               9.338           0.759   \n",
       "511        Egypt  2019        4.328               9.373           0.772   \n",
       "512        Egypt  2020        4.472               9.383           0.673   \n",
       "\n",
       "     Healthy life expectancy at birth  Freedom to make life choices  \\\n",
       "498                             59.70                         0.817   \n",
       "499                             59.82                         0.609   \n",
       "500                             59.88                         0.609   \n",
       "501                             59.94                         0.611   \n",
       "502                             60.00                         0.486   \n",
       "503                             60.16                         0.590   \n",
       "504                             60.32                         0.452   \n",
       "505                             60.48                         0.474   \n",
       "506                             60.64                         0.578   \n",
       "507                             60.80                         0.659   \n",
       "508                             61.10                         0.656   \n",
       "509                             61.40                         0.593   \n",
       "510                             61.70                         0.682   \n",
       "511                             62.00                         0.774   \n",
       "512                             62.30                         0.770   \n",
       "\n",
       "     Generosity  Perceptions of corruption  Positive affect  Negative affect  \n",
       "498      -0.157                      0.855            0.735            0.346  \n",
       "499      -0.121                      0.855            0.665            0.355  \n",
       "500      -0.087                      0.914            0.683            0.301  \n",
       "501      -0.100                      0.801            0.642            0.339  \n",
       "502      -0.076                      0.826            0.567            0.276  \n",
       "503      -0.151                      0.859            0.529            0.353  \n",
       "504      -0.138                      0.880            0.527            0.398  \n",
       "505      -0.141                      0.913            0.551            0.483  \n",
       "506      -0.126                      0.749            0.543            0.327  \n",
       "507      -0.089                      0.684            0.610            0.344  \n",
       "508      -0.141                      0.818            0.611            0.370  \n",
       "509      -0.152                      0.818            0.539            0.414  \n",
       "510      -0.215                      0.818            0.492            0.285  \n",
       "511      -0.199                      0.818            0.517            0.313  \n",
       "512      -0.112                      0.818            0.599            0.442  "
      ]
     },
     "execution_count": 34,
     "metadata": {},
     "output_type": "execute_result"
    }
   ],
   "source": [
    "data[data['Country name']=='Egypt']"
   ]
  },
  {
   "cell_type": "code",
   "execution_count": 35,
   "metadata": {},
   "outputs": [
    {
     "data": {
      "text/plain": [
       "4.2683333333333335"
      ]
     },
     "execution_count": 35,
     "metadata": {},
     "output_type": "execute_result"
    }
   ],
   "source": [
    "eg = data[(data['Country name']=='Egypt')&(data['year'].between(2018,2021))][['year','Country name','Life Ladder']]\n",
    "eg['Life Ladder'].mean()"
   ]
  },
  {
   "cell_type": "markdown",
   "metadata": {},
   "source": [
    "<h1 style='color:#33ff77'>Q12) What is the average Life Ladder rate in USA in the last three years, compared to Finland which has higher Life Ladder? ? </h1>"
   ]
  },
  {
   "cell_type": "code",
   "execution_count": 36,
   "metadata": {},
   "outputs": [
    {
     "data": {
      "text/plain": [
       "6.951666666666667"
      ]
     },
     "execution_count": 36,
     "metadata": {},
     "output_type": "execute_result"
    }
   ],
   "source": [
    "usa=data[(data['Country name']=='United States')&(data['year'].between(2018,2021))][['Country name','year','Life Ladder']]\n",
    "usa['Life Ladder'].mean()"
   ]
  },
  {
   "cell_type": "code",
   "execution_count": 37,
   "metadata": {},
   "outputs": [
    {
     "data": {
      "image/png": "[encoded data removed]",
      "text/plain": [
       "<Figure size 432x288 with 1 Axes>"
      ]
     },
     "metadata": {
      "needs_background": "light"
     },
     "output_type": "display_data"
    }
   ],
   "source": [
    "plt.bar(finland['Life Ladder'], finland['year'], color ='maroon',width = 0.1)\n",
    "plt.bar(usa['Life Ladder'], usa['year'], color ='grey',width = 0.1)\n",
    "plt.title(\"Life Ladder in Finland  & USA Last Three Years\")\n",
    "plt.show()"
   ]
  },
  {
   "cell_type": "markdown",
   "metadata": {},
   "source": [
    "<h1 style='color:aqua'> Predection </h1>\n",
    " <h2><p>We Will use  Lasso Regression::<br>\n",
    "But What is Lasso Regression?</h2>\n",
    "Lasso regression is a type of linear regression that uses shrinkage. Shrinkage is where data values are shrunk towards a central point, like the mean. The lasso procedure encourages simple, sparse models (i.e. models with fewer parameters). This particular type of regression is well-suited for models showing high levels of muticollinearity or when you want to automate certain parts of model selection, like variable selection/parameter elimination.</p>"
   ]
  },
  {
   "cell_type": "code",
   "execution_count": 38,
   "metadata": {
    "collapsed": false,
    "pycharm": {
     "name": "#%%\n"
    }
   },
   "outputs": [],
   "source": [
    "import seaborn as sns\n",
    "from sklearn.linear_model import Lasso, LinearRegression\n",
    "from sklearn.model_selection import train_test_split\n",
    "from sklearn.metrics import r2_score"
   ]
  },
  {
   "cell_type": "code",
   "execution_count": 39,
   "metadata": {
    "collapsed": false,
    "pycharm": {
     "name": "#%%\n"
    }
   },
   "outputs": [
    {
     "data": {
      "text/plain": [
       "<AxesSubplot:>"
      ]
     },
     "execution_count": 39,
     "metadata": {},
     "output_type": "execute_result"
    },
    {
     "data": {
      "image/png": "[encoded data removed]",
      "text/plain": [
       "<Figure size 1080x1080 with 2 Axes>"
      ]
     },
     "metadata": {
      "needs_background": "light"
     },
     "output_type": "display_data"
    }
   ],
   "source": [
    "# here life ladder could be considered as the indicator of happiness, so we will look at the correlation heatmap and determine the strongest correlation between all of those columns and get the most strongest one and make it as a predictor for our ML model.\n",
    "# so from the following heatmap we could see that the (log GDP and healthy life expectancy at birth) has a strong correlation with Life ladder\n",
    "plt.figure(figsize=(15,15))\n",
    "sns.heatmap(data.corr(), annot=True, linewidths=3, linecolor='black', vmin=-1, vmax=1, center=0, cmap='BrBG')"
   ]
  },
  {
   "cell_type": "code",
   "execution_count": 40,
   "metadata": {
    "collapsed": false,
    "pycharm": {
     "name": "#%%\n"
    }
   },
   "outputs": [
    {
     "data": {
      "text/html": [
       "<div>\n",
       "<style scoped>\n",
       "    .dataframe tbody tr th:only-of-type {\n",
       "        vertical-align: middle;\n",
       "    }\n",
       "\n",
       "    .dataframe tbody tr th {\n",
       "        vertical-align: top;\n",
       "    }\n",
       "\n",
       "    .dataframe thead th {\n",
       "        text-align: right;\n",
       "    }\n",
       "</style>\n",
       "<table border=\"1\" class=\"dataframe\">\n",
       "  <thead>\n",
       "    <tr style=\"text-align: right;\">\n",
       "      <th></th>\n",
       "      <th>Log GDP per capita</th>\n",
       "      <th>Social support</th>\n",
       "      <th>Healthy life expectancy at birth</th>\n",
       "      <th>Freedom to make life choices</th>\n",
       "    </tr>\n",
       "  </thead>\n",
       "  <tbody>\n",
       "    <tr>\n",
       "      <th>0</th>\n",
       "      <td>7.370</td>\n",
       "      <td>0.451</td>\n",
       "      <td>50.80</td>\n",
       "      <td>0.718</td>\n",
       "    </tr>\n",
       "    <tr>\n",
       "      <th>1</th>\n",
       "      <td>7.540</td>\n",
       "      <td>0.552</td>\n",
       "      <td>51.20</td>\n",
       "      <td>0.679</td>\n",
       "    </tr>\n",
       "    <tr>\n",
       "      <th>2</th>\n",
       "      <td>7.647</td>\n",
       "      <td>0.539</td>\n",
       "      <td>51.60</td>\n",
       "      <td>0.600</td>\n",
       "    </tr>\n",
       "    <tr>\n",
       "      <th>3</th>\n",
       "      <td>7.620</td>\n",
       "      <td>0.521</td>\n",
       "      <td>51.92</td>\n",
       "      <td>0.496</td>\n",
       "    </tr>\n",
       "    <tr>\n",
       "      <th>4</th>\n",
       "      <td>7.705</td>\n",
       "      <td>0.521</td>\n",
       "      <td>52.24</td>\n",
       "      <td>0.531</td>\n",
       "    </tr>\n",
       "    <tr>\n",
       "      <th>...</th>\n",
       "      <td>...</td>\n",
       "      <td>...</td>\n",
       "      <td>...</td>\n",
       "      <td>...</td>\n",
       "    </tr>\n",
       "    <tr>\n",
       "      <th>1944</th>\n",
       "      <td>7.984</td>\n",
       "      <td>0.768</td>\n",
       "      <td>54.40</td>\n",
       "      <td>0.733</td>\n",
       "    </tr>\n",
       "    <tr>\n",
       "      <th>1945</th>\n",
       "      <td>8.016</td>\n",
       "      <td>0.754</td>\n",
       "      <td>55.00</td>\n",
       "      <td>0.753</td>\n",
       "    </tr>\n",
       "    <tr>\n",
       "      <th>1946</th>\n",
       "      <td>8.049</td>\n",
       "      <td>0.775</td>\n",
       "      <td>55.60</td>\n",
       "      <td>0.763</td>\n",
       "    </tr>\n",
       "    <tr>\n",
       "      <th>1947</th>\n",
       "      <td>7.950</td>\n",
       "      <td>0.759</td>\n",
       "      <td>56.20</td>\n",
       "      <td>0.632</td>\n",
       "    </tr>\n",
       "    <tr>\n",
       "      <th>1948</th>\n",
       "      <td>7.829</td>\n",
       "      <td>0.717</td>\n",
       "      <td>56.80</td>\n",
       "      <td>0.643</td>\n",
       "    </tr>\n",
       "  </tbody>\n",
       "</table>\n",
       "<p>1949 rows × 4 columns</p>\n",
       "</div>"
      ],
      "text/plain": [
       "      Log GDP per capita  Social support  Healthy life expectancy at birth  \\\n",
       "0                  7.370           0.451                             50.80   \n",
       "1                  7.540           0.552                             51.20   \n",
       "2                  7.647           0.539                             51.60   \n",
       "3                  7.620           0.521                             51.92   \n",
       "4                  7.705           0.521                             52.24   \n",
       "...                  ...             ...                               ...   \n",
       "1944               7.984           0.768                             54.40   \n",
       "1945               8.016           0.754                             55.00   \n",
       "1946               8.049           0.775                             55.60   \n",
       "1947               7.950           0.759                             56.20   \n",
       "1948               7.829           0.717                             56.80   \n",
       "\n",
       "      Freedom to make life choices  \n",
       "0                            0.718  \n",
       "1                            0.679  \n",
       "2                            0.600  \n",
       "3                            0.496  \n",
       "4                            0.531  \n",
       "...                            ...  \n",
       "1944                         0.733  \n",
       "1945                         0.753  \n",
       "1946                         0.763  \n",
       "1947                         0.632  \n",
       "1948                         0.643  \n",
       "\n",
       "[1949 rows x 4 columns]"
      ]
     },
     "execution_count": 40,
     "metadata": {},
     "output_type": "execute_result"
    }
   ],
   "source": [
    "# splitting our data into a training features and target feature\n",
    "X = data.drop(['Life Ladder', 'Country name', 'year'], axis=1)\n",
    "X_df = X[['Log GDP per capita', 'Social support', 'Healthy life expectancy at birth', 'Freedom to make life choices']]\n",
    "y = data['Life Ladder']\n",
    "X_df"
   ]
  },
  {
   "cell_type": "code",
   "execution_count": 41,
   "metadata": {
    "collapsed": false,
    "pycharm": {
     "name": "#%%\n"
    }
   },
   "outputs": [
    {
     "data": {
      "text/html": [
       "<div>\n",
       "<style scoped>\n",
       "    .dataframe tbody tr th:only-of-type {\n",
       "        vertical-align: middle;\n",
       "    }\n",
       "\n",
       "    .dataframe tbody tr th {\n",
       "        vertical-align: top;\n",
       "    }\n",
       "\n",
       "    .dataframe thead th {\n",
       "        text-align: right;\n",
       "    }\n",
       "</style>\n",
       "<table border=\"1\" class=\"dataframe\">\n",
       "  <thead>\n",
       "    <tr style=\"text-align: right;\">\n",
       "      <th></th>\n",
       "      <th>Log GDP per capita</th>\n",
       "      <th>Social support</th>\n",
       "      <th>Healthy life expectancy at birth</th>\n",
       "      <th>Freedom to make life choices</th>\n",
       "      <th>Generosity</th>\n",
       "      <th>Perceptions of corruption</th>\n",
       "      <th>Positive affect</th>\n",
       "      <th>Negative affect</th>\n",
       "    </tr>\n",
       "  </thead>\n",
       "  <tbody>\n",
       "    <tr>\n",
       "      <th>0</th>\n",
       "      <td>7.370</td>\n",
       "      <td>0.451</td>\n",
       "      <td>50.80</td>\n",
       "      <td>0.718</td>\n",
       "      <td>0.168</td>\n",
       "      <td>0.882</td>\n",
       "      <td>0.518</td>\n",
       "      <td>0.258</td>\n",
       "    </tr>\n",
       "    <tr>\n",
       "      <th>1</th>\n",
       "      <td>7.540</td>\n",
       "      <td>0.552</td>\n",
       "      <td>51.20</td>\n",
       "      <td>0.679</td>\n",
       "      <td>0.190</td>\n",
       "      <td>0.850</td>\n",
       "      <td>0.584</td>\n",
       "      <td>0.237</td>\n",
       "    </tr>\n",
       "    <tr>\n",
       "      <th>2</th>\n",
       "      <td>7.647</td>\n",
       "      <td>0.539</td>\n",
       "      <td>51.60</td>\n",
       "      <td>0.600</td>\n",
       "      <td>0.121</td>\n",
       "      <td>0.707</td>\n",
       "      <td>0.618</td>\n",
       "      <td>0.275</td>\n",
       "    </tr>\n",
       "    <tr>\n",
       "      <th>3</th>\n",
       "      <td>7.620</td>\n",
       "      <td>0.521</td>\n",
       "      <td>51.92</td>\n",
       "      <td>0.496</td>\n",
       "      <td>0.162</td>\n",
       "      <td>0.731</td>\n",
       "      <td>0.611</td>\n",
       "      <td>0.267</td>\n",
       "    </tr>\n",
       "    <tr>\n",
       "      <th>4</th>\n",
       "      <td>7.705</td>\n",
       "      <td>0.521</td>\n",
       "      <td>52.24</td>\n",
       "      <td>0.531</td>\n",
       "      <td>0.236</td>\n",
       "      <td>0.776</td>\n",
       "      <td>0.710</td>\n",
       "      <td>0.268</td>\n",
       "    </tr>\n",
       "    <tr>\n",
       "      <th>...</th>\n",
       "      <td>...</td>\n",
       "      <td>...</td>\n",
       "      <td>...</td>\n",
       "      <td>...</td>\n",
       "      <td>...</td>\n",
       "      <td>...</td>\n",
       "      <td>...</td>\n",
       "      <td>...</td>\n",
       "    </tr>\n",
       "    <tr>\n",
       "      <th>1944</th>\n",
       "      <td>7.984</td>\n",
       "      <td>0.768</td>\n",
       "      <td>54.40</td>\n",
       "      <td>0.733</td>\n",
       "      <td>-0.095</td>\n",
       "      <td>0.724</td>\n",
       "      <td>0.738</td>\n",
       "      <td>0.209</td>\n",
       "    </tr>\n",
       "    <tr>\n",
       "      <th>1945</th>\n",
       "      <td>8.016</td>\n",
       "      <td>0.754</td>\n",
       "      <td>55.00</td>\n",
       "      <td>0.753</td>\n",
       "      <td>-0.098</td>\n",
       "      <td>0.751</td>\n",
       "      <td>0.806</td>\n",
       "      <td>0.224</td>\n",
       "    </tr>\n",
       "    <tr>\n",
       "      <th>1946</th>\n",
       "      <td>8.049</td>\n",
       "      <td>0.775</td>\n",
       "      <td>55.60</td>\n",
       "      <td>0.763</td>\n",
       "      <td>-0.068</td>\n",
       "      <td>0.844</td>\n",
       "      <td>0.710</td>\n",
       "      <td>0.212</td>\n",
       "    </tr>\n",
       "    <tr>\n",
       "      <th>1947</th>\n",
       "      <td>7.950</td>\n",
       "      <td>0.759</td>\n",
       "      <td>56.20</td>\n",
       "      <td>0.632</td>\n",
       "      <td>-0.064</td>\n",
       "      <td>0.831</td>\n",
       "      <td>0.716</td>\n",
       "      <td>0.235</td>\n",
       "    </tr>\n",
       "    <tr>\n",
       "      <th>1948</th>\n",
       "      <td>7.829</td>\n",
       "      <td>0.717</td>\n",
       "      <td>56.80</td>\n",
       "      <td>0.643</td>\n",
       "      <td>-0.009</td>\n",
       "      <td>0.789</td>\n",
       "      <td>0.703</td>\n",
       "      <td>0.346</td>\n",
       "    </tr>\n",
       "  </tbody>\n",
       "</table>\n",
       "<p>1949 rows × 8 columns</p>\n",
       "</div>"
      ],
      "text/plain": [
       "      Log GDP per capita  Social support  Healthy life expectancy at birth  \\\n",
       "0                  7.370           0.451                             50.80   \n",
       "1                  7.540           0.552                             51.20   \n",
       "2                  7.647           0.539                             51.60   \n",
       "3                  7.620           0.521                             51.92   \n",
       "4                  7.705           0.521                             52.24   \n",
       "...                  ...             ...                               ...   \n",
       "1944               7.984           0.768                             54.40   \n",
       "1945               8.016           0.754                             55.00   \n",
       "1946               8.049           0.775                             55.60   \n",
       "1947               7.950           0.759                             56.20   \n",
       "1948               7.829           0.717                             56.80   \n",
       "\n",
       "      Freedom to make life choices  Generosity  Perceptions of corruption  \\\n",
       "0                            0.718       0.168                      0.882   \n",
       "1                            0.679       0.190                      0.850   \n",
       "2                            0.600       0.121                      0.707   \n",
       "3                            0.496       0.162                      0.731   \n",
       "4                            0.531       0.236                      0.776   \n",
       "...                            ...         ...                        ...   \n",
       "1944                         0.733      -0.095                      0.724   \n",
       "1945                         0.753      -0.098                      0.751   \n",
       "1946                         0.763      -0.068                      0.844   \n",
       "1947                         0.632      -0.064                      0.831   \n",
       "1948                         0.643      -0.009                      0.789   \n",
       "\n",
       "      Positive affect  Negative affect  \n",
       "0               0.518            0.258  \n",
       "1               0.584            0.237  \n",
       "2               0.618            0.275  \n",
       "3               0.611            0.267  \n",
       "4               0.710            0.268  \n",
       "...               ...              ...  \n",
       "1944            0.738            0.209  \n",
       "1945            0.806            0.224  \n",
       "1946            0.710            0.212  \n",
       "1947            0.716            0.235  \n",
       "1948            0.703            0.346  \n",
       "\n",
       "[1949 rows x 8 columns]"
      ]
     },
     "execution_count": 41,
     "metadata": {},
     "output_type": "execute_result"
    }
   ],
   "source": [
    "X"
   ]
  },
  {
   "cell_type": "code",
   "execution_count": 42,
   "metadata": {
    "collapsed": false,
    "pycharm": {
     "name": "#%%\n"
    }
   },
   "outputs": [
    {
     "data": {
      "text/plain": [
       "0       3.724\n",
       "1       4.402\n",
       "2       4.758\n",
       "3       3.832\n",
       "4       3.783\n",
       "        ...  \n",
       "1944    3.735\n",
       "1945    3.638\n",
       "1946    3.616\n",
       "1947    2.694\n",
       "1948    3.160\n",
       "Name: Life Ladder, Length: 1949, dtype: float64"
      ]
     },
     "execution_count": 42,
     "metadata": {},
     "output_type": "execute_result"
    }
   ],
   "source": [
    "y"
   ]
  },
  {
   "cell_type": "code",
   "execution_count": 43,
   "metadata": {
    "collapsed": false,
    "pycharm": {
     "name": "#%%\n"
    }
   },
   "outputs": [],
   "source": [
    "X_train, y_train = X_df, y\n",
    "model = Lasso(alpha=0.2)\n",
    "training_model = model.fit(X_train, y_train)"
   ]
  },
  {
   "cell_type": "code",
   "execution_count": 44,
   "metadata": {
    "collapsed": false,
    "pycharm": {
     "name": "#%%\n"
    }
   },
   "outputs": [
    {
     "data": {
      "image/png": "[encoded data removed]",
      "text/plain": [
       "<Figure size 432x288 with 1 Axes>"
      ]
     },
     "metadata": {
      "needs_background": "light"
     },
     "output_type": "display_data"
    }
   ],
   "source": [
    "# this plot is kinda of feature selection technique using the coefficients of theis model parameters and it shows that the most important two features are Log GDP and Health life expectancy\n",
    "reg_coef = training_model.coef_\n",
    "features = X_df.columns\n",
    "_ = plt.plot(range(len(features)), reg_coef)\n",
    "_ = plt.xticks(range(len(features)), features, rotation=40)\n",
    "_ = plt.ylabel(\"coefficients significance\")\n",
    "plt.show()"
   ]
  },
  {
   "cell_type": "code",
   "execution_count": 45,
   "metadata": {
    "collapsed": false,
    "pycharm": {
     "name": "#%%\n"
    }
   },
   "outputs": [],
   "source": [
    "gdp = X['Log GDP per capita']\n",
    "hx = X['Healthy life expectancy at birth']"
   ]
  },
  {
   "cell_type": "code",
   "execution_count": 46,
   "metadata": {
    "collapsed": false,
    "pycharm": {
     "name": "#%%\n"
    }
   },
   "outputs": [
    {
     "data": {
      "text/plain": [
       "<function matplotlib.pyplot.show(close=None, block=None)>"
      ]
     },
     "execution_count": 46,
     "metadata": {},
     "output_type": "execute_result"
    },
    {
     "data": {
      "image/png": "[encoded data removed]",
      "text/plain": [
       "<Figure size 432x288 with 1 Axes>"
      ]
     },
     "metadata": {
      "needs_background": "light"
     },
     "output_type": "display_data"
    }
   ],
   "source": [
    "# plotting only 200 samples for clear observing\n",
    "plt.scatter(gdp[:200], y[:200])\n",
    "plt.xlabel(\"Life ladder or healthy score\")\n",
    "plt.ylabel(\"Log GPD\")\n",
    "plt.show"
   ]
  },
  {
   "cell_type": "code",
   "execution_count": 47,
   "metadata": {
    "collapsed": false,
    "pycharm": {
     "name": "#%%\n"
    }
   },
   "outputs": [
    {
     "data": {
      "text/plain": [
       "<function matplotlib.pyplot.show(close=None, block=None)>"
      ]
     },
     "execution_count": 47,
     "metadata": {},
     "output_type": "execute_result"
    },
    {
     "data": {
      "image/png": "[encoded data removed]",
      "text/plain": [
       "<Figure size 432x288 with 1 Axes>"
      ]
     },
     "metadata": {
      "needs_background": "light"
     },
     "output_type": "display_data"
    }
   ],
   "source": [
    "plt.scatter(hx[:200], y[:200])\n",
    "plt.xlabel(\"Life ladder or healthy score\")\n",
    "plt.ylabel(\"Healthy life expectancy at birth\")\n",
    "plt.show"
   ]
  },
  {
   "cell_type": "code",
   "execution_count": 49,
   "metadata": {
    "collapsed": false,
    "pycharm": {
     "name": "#%%\n"
    }
   },
   "outputs": [
    {
     "name": "stdout",
     "output_type": "stream",
     "text": [
      "predicted happiness score(life ladder) with a country that has the previous values for 8.0 gdp, 0.8 social support, 90.0 Healthy life expectancy and 0.85 freedom for life choices is 7.83\n"
     ]
    },
    {
     "name": "stderr",
     "output_type": "stream",
     "text": [
      "C:\\Users\\SAEDY\\AppData\\Local\\Programs\\Python\\Python39\\lib\\site-packages\\sklearn\\base.py:445: UserWarning: X does not have valid feature names, but Lasso was fitted with feature names\n",
      "  warnings.warn(\n"
     ]
    }
   ],
   "source": [
    "test = np.array([8.0, 0.8, 90.0, 0.85]).reshape(1,-1)\n",
    "print(f\"predicted happiness score(life ladder) with a country that has the previous values for 8.0 gdp, 0.8 social support, 90.0 Healthy life expectancy and 0.85 freedom for life choices is {round(training_model.predict(test)[0],2)}\")"
   ]
  }
 ],
 "metadata": {
  "interpreter": {
   "hash": "8f8e70b32751f53ad4e0e193185e014e3c39f40a767a59a118dd54f78b695168"
  },
  "kernelspec": {
   "display_name": "Python 3.9.7 64-bit",
   "language": "python",
   "name": "python3"
  },
  "language_info": {
   "codemirror_mode": {
    "name": "ipython",
    "version": 3
   },
   "file_extension": ".py",
   "mimetype": "text/x-python",
   "name": "python",
   "nbconvert_exporter": "python",
   "pygments_lexer": "ipython3",
   "version": "3.9.7"
  },
  "orig_nbformat": 4
 },
 "nbformat": 4,
 "nbformat_minor": 2
}
